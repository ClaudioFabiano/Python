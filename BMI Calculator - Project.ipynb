{
 "cells": [
  {
   "cell_type": "code",
   "execution_count": null,
   "id": "ce53e1f5",
   "metadata": {},
   "outputs": [],
   "source": [
    "\n",
    "# Body Mass Index (BMI) is a person's weight in kilograms (or pounds)\n",
    "# divided by the square of height in meters (or feet). A high BMI can\n",
    "# indicate high body fatness. BMI screens for weight categories that \n",
    "# may lead to health problems, but it does not diagnose the body \n",
    "# fatness or health of an individual.\n"
   ]
  },
  {
   "cell_type": "code",
   "execution_count": 10,
   "id": "b11291da",
   "metadata": {},
   "outputs": [
    {
     "name": "stdout",
     "output_type": "stream",
     "text": [
      "Enter your weight in Kg: 100\n",
      "Your weight in Pounds is: 220\n"
     ]
    }
   ],
   "source": [
    "\n",
    "# Weight converter kg to lb \n",
    "#name = input(\"Enter you first name: \")\n",
    "weight = int(input(\"Enter your weight in Kg: \"))\n",
    "Lbs_weight = (weight * 2.20462) \n",
    "print(\"Your weight in Pounds is:\",round(Lbs_weight))\n"
   ]
  },
  {
   "cell_type": "code",
   "execution_count": 9,
   "id": "d1703050",
   "metadata": {},
   "outputs": [
    {
     "name": "stdout",
     "output_type": "stream",
     "text": [
      "Enter your height in Foot: 6.11\n",
      "Your height in Inches is: 73\n"
     ]
    }
   ],
   "source": [
    "\n",
    "# Height converter Feet to inches \n",
    "#name = input(\"Enter you first name: \")\n",
    "height = float(input(\"Enter your height in Foot: \"))\n",
    "Foot_height = (height * 12) \n",
    "print(\"Your height in Inches is:\",round(Foot_height))\n"
   ]
  },
  {
   "cell_type": "code",
   "execution_count": 5,
   "id": "5fec4201",
   "metadata": {},
   "outputs": [
    {
     "name": "stdout",
     "output_type": "stream",
     "text": [
      "Enter your height in cm: 175\n",
      "Your height in Inches is: 69\n"
     ]
    }
   ],
   "source": [
    "\n",
    "# Height converter CM to inches \n",
    "#name = input(\"Enter you first name: \")\n",
    "height = float(input(\"Enter your height in cm: \"))\n",
    "CM_height = (height / 2.54) \n",
    "print(\"Your height in Inches is:\",round(CM_height))\n"
   ]
  },
  {
   "cell_type": "code",
   "execution_count": 3,
   "id": "0da1ea6a",
   "metadata": {},
   "outputs": [
    {
     "name": "stdout",
     "output_type": "stream",
     "text": [
      "Enter you first name: Joseph\n",
      "Enter your weight in Pounds: 220\n",
      "Enter your height in Inches: 74\n",
      "Joseph, your BMI is: 28\n",
      "You are overweight.\n",
      "Your Health Risk level is: Medium\n",
      "PS: Include healther food to your diet.\n"
     ]
    }
   ],
   "source": [
    "\n",
    "#BMI Calculator [Formula = (weight in pounds x 703) / (height in inches x height in inches)]\n",
    "\n",
    "name = input(\"Enter you first name: \")\n",
    "weight = int(input(\"Enter your weight in Pounds: \"))\n",
    "height = int(input(\"Enter your height in Inches: \"))\n",
    "BMI = (weight * 703) / (height * height)\n",
    "print(name +\", your BMI is:\",round(BMI))\n",
    "\n",
    "if BMI>0:\n",
    "    if(BMI<18.5):\n",
    "        print(\"You are Underweight.\")\n",
    "        print(\"Your Health Risk level is: Minimal\")\n",
    "        print(\"PS: Improve your diet.\")\n",
    "    elif (BMI<=24.9):\n",
    "        print(\"You are normal weight.\")\n",
    "        print(\"Your Health Risk level is: Low\")\n",
    "        print(\"PS: Keep taking care of your health, you are doing great!\")\n",
    "    elif (BMI<29.9):\n",
    "        print(\"You are overweight.\")\n",
    "        print(\"Your Health Risk level is: Medium\")\n",
    "        print(\"PS: Include healther food to your diet.\")\n",
    "    elif (BMI<34.9):\n",
    "        print(\"You are obese.\")\n",
    "        print(\"Your Health Risk level is: High\")\n",
    "        print(\"PS: Go see a Nutritionist.\")\n",
    "    elif (BMI<39.9):\n",
    "        print(\"You are severely obese.\")\n",
    "        print(\"Your Health Risk level is: Very High\")\n",
    "        print(\"PS: Please visit a Doctor.\")\n",
    "    elif (BMI<80):\n",
    "        print(\"You are morbidly obese.\")\n",
    "        print(\"Your Health Risk level is: Extremely High\")\n",
    "        print(\"PS: Please visit a Doctor. Immediately!\")\n",
    "    else:\n",
    "        print(\"Enter valid input. Max BMI is: 80.\")\n",
    "else:\n",
    "    print(\"Enter valid input.\")\n",
    "    "
   ]
  },
  {
   "cell_type": "code",
   "execution_count": null,
   "id": "22113e5a",
   "metadata": {},
   "outputs": [],
   "source": []
  },
  {
   "cell_type": "code",
   "execution_count": null,
   "id": "6698123d",
   "metadata": {},
   "outputs": [],
   "source": []
  },
  {
   "cell_type": "code",
   "execution_count": null,
   "id": "ff0f8b8f",
   "metadata": {},
   "outputs": [],
   "source": []
  },
  {
   "cell_type": "code",
   "execution_count": null,
   "id": "ba6d3f42",
   "metadata": {},
   "outputs": [],
   "source": []
  },
  {
   "cell_type": "code",
   "execution_count": null,
   "id": "796edd1e",
   "metadata": {},
   "outputs": [],
   "source": []
  },
  {
   "cell_type": "code",
   "execution_count": null,
   "id": "1f9be761",
   "metadata": {},
   "outputs": [],
   "source": []
  },
  {
   "cell_type": "code",
   "execution_count": null,
   "id": "d57f4315",
   "metadata": {},
   "outputs": [],
   "source": []
  },
  {
   "cell_type": "code",
   "execution_count": null,
   "id": "72510ddb",
   "metadata": {},
   "outputs": [],
   "source": []
  },
  {
   "cell_type": "code",
   "execution_count": null,
   "id": "3858c522",
   "metadata": {},
   "outputs": [],
   "source": []
  },
  {
   "cell_type": "code",
   "execution_count": null,
   "id": "36b14b4e",
   "metadata": {},
   "outputs": [],
   "source": []
  },
  {
   "cell_type": "code",
   "execution_count": null,
   "id": "250829d3",
   "metadata": {},
   "outputs": [],
   "source": []
  }
 ],
 "metadata": {
  "kernelspec": {
   "display_name": "Python 3 (ipykernel)",
   "language": "python",
   "name": "python3"
  },
  "language_info": {
   "codemirror_mode": {
    "name": "ipython",
    "version": 3
   },
   "file_extension": ".py",
   "mimetype": "text/x-python",
   "name": "python",
   "nbconvert_exporter": "python",
   "pygments_lexer": "ipython3",
   "version": "3.10.9"
  }
 },
 "nbformat": 4,
 "nbformat_minor": 5
}
